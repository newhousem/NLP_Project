{
 "cells": [
  {
   "cell_type": "markdown",
   "metadata": {},
   "source": [
    "# NLP Modeling"
   ]
  },
  {
   "cell_type": "markdown",
   "metadata": {},
   "source": [
    "## Import necessary libraries for modeling"
   ]
  },
  {
   "cell_type": "code",
   "execution_count": 264,
   "metadata": {},
   "outputs": [],
   "source": [
    "import nltk\n",
    "import pandas as pd\n",
    "from sklearn.feature_extraction.text import TfidfVectorizer\n",
    "from sklearn.metrics import confusion_matrix\n",
    "import seaborn as sns\n",
    "from sklearn.naive_bayes import MultinomialNB\n",
    "from sklearn import metrics\n",
    "from sklearn.model_selection import train_test_split\n",
    "from matplotlib import cm\n",
    "import numpy as np\n",
    "from sklearn.ensemble import RandomForestClassifier \n",
    "from sklearn.tree import DecisionTreeClassifier\n",
    "from sklearn.model_selection import train_test_split, cross_val_score, GridSearchCV\n",
    "from sklearn.metrics import precision_score, recall_score, accuracy_score, f1_score, plot_confusion_matrix, classification_report\n",
    "from sklearn.metrics import mean_absolute_error, mean_squared_error\n",
    "import time\n",
    "from imblearn.over_sampling import SMOTE\n",
    "from imblearn.pipeline import make_pipeline\n",
    "from sklearn.naive_bayes import GaussianNB"
   ]
  },
  {
   "cell_type": "markdown",
   "metadata": {},
   "source": [
    "## Create function to evaluate models"
   ]
  },
  {
   "cell_type": "code",
   "execution_count": 268,
   "metadata": {},
   "outputs": [],
   "source": [
    "def evaluator(X_train, y_train, X_test, y_test, model):\n",
    "    start = time.time()\n",
    "    model.fit(X_train, y_train)\n",
    "    train_preds = model.predict(X_train)\n",
    "    test_preds = model.predict(X_test)\n",
    "    end = time.time()\n",
    "    print(\"Model Time: {}\".format(end-start))\n",
    "    print(\"Training:{}\".format(classification_report(y_train, train_preds)))\n",
    "    print(\"Testing:{}\".format(classification_report(y_test, test_preds)))\n",
    "    \n",
    "    print('Mean Absolute Error:', mean_absolute_error(y_test, test_preds))  \n",
    "    print('Mean Squared Error:', mean_squared_error(y_test, test_preds))  \n",
    "    print('Root Mean Squared Error:', np.sqrt(mean_squared_error(y_test, test_preds)))\n",
    "    \n",
    "    \n",
    "    model_confusion_matrix = plot_confusion_matrix(model, X_test, y_test)"
   ]
  },
  {
   "cell_type": "code",
   "execution_count": 269,
   "metadata": {},
   "outputs": [],
   "source": [
    "## import cleaned data\n",
    "df = pd.read_csv('Cleaned_data.csv')"
   ]
  },
  {
   "cell_type": "code",
   "execution_count": 270,
   "metadata": {},
   "outputs": [
    {
     "data": {
      "text/html": [
       "<div>\n",
       "<style scoped>\n",
       "    .dataframe tbody tr th:only-of-type {\n",
       "        vertical-align: middle;\n",
       "    }\n",
       "\n",
       "    .dataframe tbody tr th {\n",
       "        vertical-align: top;\n",
       "    }\n",
       "\n",
       "    .dataframe thead th {\n",
       "        text-align: right;\n",
       "    }\n",
       "</style>\n",
       "<table border=\"1\" class=\"dataframe\">\n",
       "  <thead>\n",
       "    <tr style=\"text-align: right;\">\n",
       "      <th></th>\n",
       "      <th>tweet</th>\n",
       "      <th>emotion</th>\n",
       "    </tr>\n",
       "  </thead>\n",
       "  <tbody>\n",
       "    <tr>\n",
       "      <td>0</td>\n",
       "      <td>wesley83 3g iphone 3 hr tweeting rise_austin d...</td>\n",
       "      <td>0</td>\n",
       "    </tr>\n",
       "    <tr>\n",
       "      <td>1</td>\n",
       "      <td>jessedee know fludapp awesome ipad/iphone app ...</td>\n",
       "      <td>1</td>\n",
       "    </tr>\n",
       "    <tr>\n",
       "      <td>2</td>\n",
       "      <td>swonderlin wait ipad 2 also sale sxsw</td>\n",
       "      <td>1</td>\n",
       "    </tr>\n",
       "    <tr>\n",
       "      <td>3</td>\n",
       "      <td>sxsw hope year festival crashy year iphone app...</td>\n",
       "      <td>0</td>\n",
       "    </tr>\n",
       "    <tr>\n",
       "      <td>4</td>\n",
       "      <td>sxtxstate great stuff fri sxsw marissa mayer g...</td>\n",
       "      <td>1</td>\n",
       "    </tr>\n",
       "  </tbody>\n",
       "</table>\n",
       "</div>"
      ],
      "text/plain": [
       "                                               tweet  emotion\n",
       "0  wesley83 3g iphone 3 hr tweeting rise_austin d...        0\n",
       "1  jessedee know fludapp awesome ipad/iphone app ...        1\n",
       "2              swonderlin wait ipad 2 also sale sxsw        1\n",
       "3  sxsw hope year festival crashy year iphone app...        0\n",
       "4  sxtxstate great stuff fri sxsw marissa mayer g...        1"
      ]
     },
     "execution_count": 270,
     "metadata": {},
     "output_type": "execute_result"
    }
   ],
   "source": [
    "df.head()"
   ]
  },
  {
   "cell_type": "code",
   "execution_count": 271,
   "metadata": {},
   "outputs": [],
   "source": [
    "## assign X and y variables\n",
    "X = df.tweet\n",
    "y = df.emotion"
   ]
  },
  {
   "cell_type": "markdown",
   "metadata": {},
   "source": [
    "# Baseline Model"
   ]
  },
  {
   "cell_type": "code",
   "execution_count": 272,
   "metadata": {},
   "outputs": [
    {
     "data": {
      "text/plain": [
       "<2838x4948 sparse matrix of type '<class 'numpy.float64'>'\n",
       "\twith 33327 stored elements in Compressed Sparse Row format>"
      ]
     },
     "execution_count": 272,
     "metadata": {},
     "output_type": "execute_result"
    }
   ],
   "source": [
    "## Perform train test split and initialize tfidf for baseline model\n",
    "\n",
    "X_train, X_test, y_train, y_test = train_test_split(X, y, test_size=0.20, random_state=1)\n",
    "\n",
    "tfidf = TfidfVectorizer()\n",
    "\n",
    "tfidf_data_train = tfidf.fit_transform(X_train)\n",
    "tfidf_data_test = tfidf.transform(X_test)\n",
    "\n",
    "tfidf_data_train"
   ]
  },
  {
   "cell_type": "code",
   "execution_count": 273,
   "metadata": {},
   "outputs": [],
   "source": [
    "## Create baseline model\n",
    "rf_classifier = RandomForestClassifier(n_estimators=100, random_state=0)"
   ]
  },
  {
   "cell_type": "code",
   "execution_count": 274,
   "metadata": {},
   "outputs": [
    {
     "name": "stdout",
     "output_type": "stream",
     "text": [
      "Model Time: 0.8967099189758301\n",
      "Training:              precision    recall  f1-score   support\n",
      "\n",
      "           0       1.00      1.00      1.00       449\n",
      "           1       1.00      1.00      1.00      2389\n",
      "\n",
      "    accuracy                           1.00      2838\n",
      "   macro avg       1.00      1.00      1.00      2838\n",
      "weighted avg       1.00      1.00      1.00      2838\n",
      "\n",
      "Testing:              precision    recall  f1-score   support\n",
      "\n",
      "           0       0.93      0.22      0.36       121\n",
      "           1       0.86      1.00      0.92       589\n",
      "\n",
      "    accuracy                           0.86       710\n",
      "   macro avg       0.90      0.61      0.64       710\n",
      "weighted avg       0.87      0.86      0.83       710\n",
      "\n",
      "Mean Absolute Error: 0.1352112676056338\n",
      "Mean Squared Error: 0.1352112676056338\n",
      "Root Mean Squared Error: 0.36771084782153735\n"
     ]
    },
    {
     "data": {
      "image/png": "[encoded data removed]",
      "text/plain": [
       "<Figure size 432x288 with 2 Axes>"
      ]
     },
     "metadata": {
      "needs_background": "light"
     },
     "output_type": "display_data"
    }
   ],
   "source": [
    "## evaluate baseline model \n",
    "evaluator(tfidf_data_train, y_train, tfidf_data_test, y_test, rf_classifier)"
   ]
  },
  {
   "cell_type": "markdown",
   "metadata": {},
   "source": [
    "The model has overfitting and very low recall for tweets with a negative emotion"
   ]
  },
  {
   "cell_type": "markdown",
   "metadata": {},
   "source": [
    "# Iterative Modeling Process"
   ]
  },
  {
   "cell_type": "code",
   "execution_count": 172,
   "metadata": {},
   "outputs": [],
   "source": [
    "## I will use SMOTE to deal with class imbalance and begin tuning the model with gridsearch\n",
    "from imblearn.pipeline import Pipeline\n",
    "pipeline = Pipeline([\n",
    "                    ('tfidf', TfidfVectorizer()),\n",
    "                    ('smt', SMOTE()),\n",
    "                    ('RF', RandomForestClassifier())])\n"
   ]
  },
  {
   "cell_type": "code",
   "execution_count": 25,
   "metadata": {},
   "outputs": [],
   "source": [
    "grid = [{'RF__max_depth': [4, 5, 6], \n",
    "         'RF__min_samples_split': [2, 5, 10], \n",
    "         'RF__min_samples_leaf': [1, 3, 5],\n",
    "        'tfidf__max_df': np.linspace(0.1, 1, 10),\n",
    "        'tfidf__binary': [True, False],\n",
    "      'tfidf__norm': [None, 'l1', 'l2']}]"
   ]
  },
  {
   "cell_type": "code",
   "execution_count": 33,
   "metadata": {},
   "outputs": [],
   "source": [
    "gridsearch = GridSearchCV(estimator=pipeline, \n",
    "                          param_grid=grid, \n",
    "                          scoring='f1', \n",
    "                          cv=5)"
   ]
  },
  {
   "cell_type": "code",
   "execution_count": 34,
   "metadata": {},
   "outputs": [
    {
     "name": "stdout",
     "output_type": "stream",
     "text": [
      "Model Time: 1563.372566461563\n",
      "Training Classifiction Report:               precision    recall  f1-score   support\n",
      "\n",
      "           0       0.97      0.08      0.16       449\n",
      "           1       0.85      1.00      0.92      2389\n",
      "\n",
      "    accuracy                           0.85      2838\n",
      "   macro avg       0.91      0.54      0.54      2838\n",
      "weighted avg       0.87      0.85      0.80      2838\n",
      "\n",
      "Testing Classifiction Report:               precision    recall  f1-score   support\n",
      "\n",
      "           0       1.00      0.03      0.06       121\n",
      "           1       0.83      1.00      0.91       589\n",
      "\n",
      "    accuracy                           0.84       710\n",
      "   macro avg       0.92      0.52      0.49       710\n",
      "weighted avg       0.86      0.84      0.77       710\n",
      "\n",
      "Mean Absolute Error: 0.1647887323943662\n",
      "Mean Squared Error: 0.1647887323943662\n",
      "Root Mean Squared Error: 0.40594178448931095\n"
     ]
    },
    {
     "data": {
      "image/png": "[encoded data removed]",
      "text/plain": [
       "<Figure size 432x288 with 2 Axes>"
      ]
     },
     "metadata": {
      "needs_background": "light"
     },
     "output_type": "display_data"
    }
   ],
   "source": [
    "evaluator(X_train, y_train, X_test, y_test, df, y, gridsearch)"
   ]
  },
  {
   "cell_type": "markdown",
   "metadata": {},
   "source": [
    "This initial gridsearch random forrest model predicts positive emotion perfectly but predicts the negative emotion very poorly. \n",
    "\n",
    "Lets try a Multinomial Naive Bayes model next. "
   ]
  },
  {
   "cell_type": "code",
   "execution_count": 173,
   "metadata": {},
   "outputs": [],
   "source": [
    "pipeline2 = Pipeline([\n",
    "                    ('tfidf', TfidfVectorizer()),\n",
    "                    ('smt', SMOTE()),\n",
    "                    ('NB', MultinomialNB())])"
   ]
  },
  {
   "cell_type": "code",
   "execution_count": 177,
   "metadata": {},
   "outputs": [],
   "source": [
    "grid2 = {'NB__alpha': np.linspace(0.5, 1.5, 6),\n",
    "  'NB__fit_prior': [True, False],\n",
    "  'tfidf__max_df': np.linspace(0.1, 1, 10),\n",
    "  'tfidf__binary': [True, False],\n",
    "  'tfidf__norm': [None, 'l1', 'l2'],\n",
    "    'tfidf__ngram_range':[(1,1),(1,2),(2,2)],\n",
    "    'tfidf__max_features':[None, 1000, 2000]}"
   ]
  },
  {
   "cell_type": "code",
   "execution_count": 178,
   "metadata": {},
   "outputs": [],
   "source": [
    "gridsearch2 = GridSearchCV(estimator=pipeline2, \n",
    "                          param_grid=grid2, \n",
    "                          scoring='accuracy', \n",
    "                          cv=5)"
   ]
  },
  {
   "cell_type": "code",
   "execution_count": 179,
   "metadata": {},
   "outputs": [
    {
     "name": "stdout",
     "output_type": "stream",
     "text": [
      "Model Time: 2886.7257101535797\n",
      "Training:               precision    recall  f1-score   support\n",
      "\n",
      "           0       0.98      0.99      0.98       449\n",
      "           1       1.00      1.00      1.00      2389\n",
      "\n",
      "    accuracy                           1.00      2838\n",
      "   macro avg       0.99      0.99      0.99      2838\n",
      "weighted avg       1.00      1.00      1.00      2838\n",
      "\n",
      "Testing:               precision    recall  f1-score   support\n",
      "\n",
      "           0       0.62      0.48      0.54       121\n",
      "           1       0.90      0.94      0.92       589\n",
      "\n",
      "    accuracy                           0.86       710\n",
      "   macro avg       0.76      0.71      0.73       710\n",
      "weighted avg       0.85      0.86      0.85       710\n",
      "\n",
      "Mean Absolute Error: 0.13943661971830987\n",
      "Mean Squared Error: 0.13943661971830987\n",
      "Root Mean Squared Error: 0.3734121311879274\n"
     ]
    },
    {
     "data": {
      "image/png": "[encoded data removed]",
      "text/plain": [
       "<Figure size 432x288 with 2 Axes>"
      ]
     },
     "metadata": {
      "needs_background": "light"
     },
     "output_type": "display_data"
    }
   ],
   "source": [
    "evaluator(X_train, y_train, X_test, y_test, df, y, gridsearch2)"
   ]
  },
  {
   "cell_type": "code",
   "execution_count": 180,
   "metadata": {},
   "outputs": [
    {
     "data": {
      "text/plain": [
       "{'NB__alpha': 0.7,\n",
       " 'NB__fit_prior': False,\n",
       " 'tfidf__binary': False,\n",
       " 'tfidf__max_df': 0.2,\n",
       " 'tfidf__max_features': None,\n",
       " 'tfidf__ngram_range': (1, 2),\n",
       " 'tfidf__norm': None}"
      ]
     },
     "execution_count": 180,
     "metadata": {},
     "output_type": "execute_result"
    }
   ],
   "source": [
    "gridsearch2.best_params_"
   ]
  },
  {
   "cell_type": "code",
   "execution_count": 283,
   "metadata": {},
   "outputs": [],
   "source": [
    "FinalNB = Pipeline([\n",
    "                    ('tfidf', TfidfVectorizer(binary = False,\n",
    "                                            max_df = 0.2,\n",
    "                                             max_features = None,\n",
    "                                            ngram_range = (1, 2),\n",
    "                                             norm = None)),\n",
    "                    ('smt', SMOTE()),\n",
    "                    ('NB', MultinomialNB(alpha = .7, \n",
    "                                        fit_prior = False))])"
   ]
  },
  {
   "cell_type": "code",
   "execution_count": 284,
   "metadata": {},
   "outputs": [
    {
     "name": "stdout",
     "output_type": "stream",
     "text": [
      "Model Time: 0.17304468154907227\n",
      "Training:              precision    recall  f1-score   support\n",
      "\n",
      "           0       0.97      1.00      0.98       449\n",
      "           1       1.00      0.99      1.00      2389\n",
      "\n",
      "    accuracy                           1.00      2838\n",
      "   macro avg       0.99      1.00      0.99      2838\n",
      "weighted avg       1.00      1.00      1.00      2838\n",
      "\n",
      "Testing:              precision    recall  f1-score   support\n",
      "\n",
      "           0       0.63      0.48      0.54       121\n",
      "           1       0.90      0.94      0.92       589\n",
      "\n",
      "    accuracy                           0.86       710\n",
      "   macro avg       0.76      0.71      0.73       710\n",
      "weighted avg       0.85      0.86      0.86       710\n",
      "\n",
      "Mean Absolute Error: 0.13661971830985917\n",
      "Mean Squared Error: 0.13661971830985917\n",
      "Root Mean Squared Error: 0.3696210468978453\n"
     ]
    },
    {
     "data": {
      "image/png": "[encoded data removed]",
      "text/plain": [
       "<Figure size 432x288 with 2 Axes>"
      ]
     },
     "metadata": {
      "needs_background": "light"
     },
     "output_type": "display_data"
    }
   ],
   "source": [
    "evaluator(X_train, y_train, X_test, y_test, FinalNB)"
   ]
  },
  {
   "cell_type": "markdown",
   "metadata": {},
   "source": [
    "This final Naive Bayes model has the best ratio between correct positive emotion predictions and negative emotion predictions and recall score. However, it may suffer from overfitting.\n",
    "\n",
    "Now I will attempt to tune a better Random Forest model using bigrams."
   ]
  },
  {
   "cell_type": "code",
   "execution_count": 39,
   "metadata": {},
   "outputs": [],
   "source": [
    "pipeline3 = Pipeline([\n",
    "                    ('tfidf', TfidfVectorizer(ngram_range=(2,2))),\n",
    "                    ('smt', SMOTE()),\n",
    "                    ('RF', RandomForestClassifier())])"
   ]
  },
  {
   "cell_type": "code",
   "execution_count": 40,
   "metadata": {},
   "outputs": [],
   "source": [
    "grid3 = {'RF__max_depth': [4, 5, 6], \n",
    "         'RF__min_samples_split': [2, 5, 10], \n",
    "         'RF__min_samples_leaf': [1, 3, 5],\n",
    "        'tfidf__max_df': np.linspace(0.1, 1, 10),\n",
    "          'tfidf__binary': [True, False],\n",
    "          'tfidf__norm': [None, 'l1', 'l2']}"
   ]
  },
  {
   "cell_type": "code",
   "execution_count": 41,
   "metadata": {},
   "outputs": [],
   "source": [
    "gridsearch3 = GridSearchCV(estimator=pipeline3, \n",
    "                          param_grid=grid3, \n",
    "                          scoring='accuracy', \n",
    "                          cv=5)"
   ]
  },
  {
   "cell_type": "code",
   "execution_count": 42,
   "metadata": {},
   "outputs": [
    {
     "name": "stdout",
     "output_type": "stream",
     "text": [
      "Model Time: 1783.2551505565643\n",
      "Training Classifiction Report:               precision    recall  f1-score   support\n",
      "\n",
      "           0       0.94      0.15      0.25       449\n",
      "           1       0.86      1.00      0.92      2389\n",
      "\n",
      "    accuracy                           0.86      2838\n",
      "   macro avg       0.90      0.57      0.59      2838\n",
      "weighted avg       0.87      0.86      0.82      2838\n",
      "\n",
      "Testing Classifiction Report:               precision    recall  f1-score   support\n",
      "\n",
      "           0       1.00      0.04      0.08       121\n",
      "           1       0.84      1.00      0.91       589\n",
      "\n",
      "    accuracy                           0.84       710\n",
      "   macro avg       0.92      0.52      0.49       710\n",
      "weighted avg       0.86      0.84      0.77       710\n",
      "\n",
      "Mean Absolute Error: 0.16338028169014085\n",
      "Mean Squared Error: 0.16338028169014085\n",
      "Root Mean Squared Error: 0.40420326778755866\n"
     ]
    },
    {
     "data": {
      "image/png": "[encoded data removed]",
      "text/plain": [
       "<Figure size 432x288 with 2 Axes>"
      ]
     },
     "metadata": {
      "needs_background": "light"
     },
     "output_type": "display_data"
    }
   ],
   "source": [
    "evaluator(X_train, y_train, X_test, y_test, gridsearch3)"
   ]
  },
  {
   "cell_type": "code",
   "execution_count": 92,
   "metadata": {},
   "outputs": [],
   "source": [
    "## perhaps a decision tree might be better\n",
    "pipeline4 = Pipeline([\n",
    "                    ('tfidf', TfidfVectorizer(ngram_range=(2,2))),\n",
    "                    ('smt', SMOTE()),\n",
    "                    ('DT', DecisionTreeClassifier())])"
   ]
  },
  {
   "cell_type": "code",
   "execution_count": 93,
   "metadata": {},
   "outputs": [],
   "source": [
    "grid4 = {'DT__criterion': ['gini', 'entropy'],\n",
    "    'DT__max_depth': [None, 5, 10, 15,],\n",
    "    'DT__min_samples_split': [2, 5, 10],\n",
    "    'DT__min_samples_leaf': [2,5,10],\n",
    "      'tfidf__max_df': np.linspace(0.1, 1, 10),\n",
    "          'tfidf__binary': [True, False],\n",
    "          'tfidf__norm': [None, 'l1', 'l2'],}"
   ]
  },
  {
   "cell_type": "code",
   "execution_count": 94,
   "metadata": {},
   "outputs": [],
   "source": [
    "gridsearch4 = GridSearchCV(estimator=pipeline4, \n",
    "                          param_grid=grid4, \n",
    "                          scoring='accuracy', \n",
    "                          cv=5)"
   ]
  },
  {
   "cell_type": "code",
   "execution_count": 95,
   "metadata": {},
   "outputs": [
    {
     "name": "stdout",
     "output_type": "stream",
     "text": [
      "Model Time: 3416.3249640464783\n",
      "Training Classifiction Report:               precision    recall  f1-score   support\n",
      "\n",
      "           0       0.91      0.14      0.24       449\n",
      "           1       0.86      1.00      0.92      2389\n",
      "\n",
      "    accuracy                           0.86      2838\n",
      "   macro avg       0.89      0.57      0.58      2838\n",
      "weighted avg       0.87      0.86      0.81      2838\n",
      "\n",
      "Testing Classifiction Report:               precision    recall  f1-score   support\n",
      "\n",
      "           0       0.79      0.09      0.16       121\n",
      "           1       0.84      0.99      0.91       589\n",
      "\n",
      "    accuracy                           0.84       710\n",
      "   macro avg       0.81      0.54      0.54       710\n",
      "weighted avg       0.83      0.84      0.78       710\n",
      "\n",
      "Mean Absolute Error: 0.1591549295774648\n",
      "Mean Squared Error: 0.1591549295774648\n",
      "Root Mean Squared Error: 0.39894226346360545\n"
     ]
    },
    {
     "data": {
      "image/png": "[encoded data removed]",
      "text/plain": [
       "<Figure size 432x288 with 2 Axes>"
      ]
     },
     "metadata": {
      "needs_background": "light"
     },
     "output_type": "display_data"
    }
   ],
   "source": [
    "evaluator(X_train, y_train, X_test, y_test, gridsearch4)"
   ]
  },
  {
   "cell_type": "markdown",
   "metadata": {},
   "source": [
    "Using the information learned from the previous models I decided to manually change certain params to find the best random forest model.   "
   ]
  },
  {
   "cell_type": "code",
   "execution_count": 280,
   "metadata": {},
   "outputs": [],
   "source": [
    "\n",
    "pipeline5 = Pipeline([\n",
    "                    ('tfidf', TfidfVectorizer(binary =False,\n",
    "                     max_df =.7,\n",
    "                     ngram_range = (1,2),\n",
    "                    max_features = 2200)),\n",
    "                    ('smt', SMOTE()),\n",
    "                    ('RF', RandomForestClassifier(\n",
    "                        max_depth = 6,\n",
    "                        min_samples_leaf = 3,\n",
    "                        min_samples_split =5))])"
   ]
  },
  {
   "cell_type": "code",
   "execution_count": 282,
   "metadata": {},
   "outputs": [
    {
     "name": "stdout",
     "output_type": "stream",
     "text": [
      "Model Time: 0.38297486305236816\n",
      "Training:              precision    recall  f1-score   support\n",
      "\n",
      "           0       0.46      0.56      0.50       449\n",
      "           1       0.91      0.88      0.89      2389\n",
      "\n",
      "    accuracy                           0.83      2838\n",
      "   macro avg       0.69      0.72      0.70      2838\n",
      "weighted avg       0.84      0.83      0.83      2838\n",
      "\n",
      "Testing:              precision    recall  f1-score   support\n",
      "\n",
      "           0       0.36      0.36      0.36       121\n",
      "           1       0.87      0.87      0.87       589\n",
      "\n",
      "    accuracy                           0.78       710\n",
      "   macro avg       0.62      0.61      0.62       710\n",
      "weighted avg       0.78      0.78      0.78       710\n",
      "\n",
      "Mean Absolute Error: 0.21549295774647886\n",
      "Mean Squared Error: 0.21549295774647886\n",
      "Root Mean Squared Error: 0.4642121904328654\n"
     ]
    },
    {
     "data": {
      "image/png": "[encoded data removed]",
      "text/plain": [
       "<Figure size 432x288 with 2 Axes>"
      ]
     },
     "metadata": {
      "needs_background": "light"
     },
     "output_type": "display_data"
    }
   ],
   "source": [
    "evaluator(X_train, y_train, X_test, y_test,pipeline5)"
   ]
  },
  {
   "cell_type": "markdown",
   "metadata": {},
   "source": [
    "The final tfidf params I decided to use include bigrams, as well as single words, and a max features of 1500. There was a required trade off between positive emotion recall and negative emotion recall. "
   ]
  },
  {
   "cell_type": "code",
   "execution_count": 290,
   "metadata": {},
   "outputs": [],
   "source": [
    "FinalRF = Pipeline([('tfidf', TfidfVectorizer(binary = False,\n",
    "                            max_df =0.7,\n",
    "                            ngram_range = (1,2),\n",
    "                            max_features = 1500)),\n",
    "                    ('smt', SMOTE()),\n",
    "                    ('RF', RandomForestClassifier(\n",
    "                        max_depth = 6,\n",
    "                        min_samples_leaf = 3,\n",
    "                        min_samples_split = 5))])"
   ]
  },
  {
   "cell_type": "code",
   "execution_count": 291,
   "metadata": {},
   "outputs": [
    {
     "name": "stdout",
     "output_type": "stream",
     "text": [
      "Model Time: 0.3720052242279053\n",
      "Training:              precision    recall  f1-score   support\n",
      "\n",
      "           0       0.45      0.61      0.52       449\n",
      "           1       0.92      0.86      0.89      2389\n",
      "\n",
      "    accuracy                           0.82      2838\n",
      "   macro avg       0.69      0.73      0.71      2838\n",
      "weighted avg       0.85      0.82      0.83      2838\n",
      "\n",
      "Testing:              precision    recall  f1-score   support\n",
      "\n",
      "           0       0.36      0.44      0.39       121\n",
      "           1       0.88      0.84      0.86       589\n",
      "\n",
      "    accuracy                           0.77       710\n",
      "   macro avg       0.62      0.64      0.63       710\n",
      "weighted avg       0.79      0.77      0.78       710\n",
      "\n",
      "Mean Absolute Error: 0.2295774647887324\n",
      "Mean Squared Error: 0.2295774647887324\n",
      "Root Mean Squared Error: 0.47914242641278637\n"
     ]
    },
    {
     "data": {
      "image/png": "[encoded data removed]",
      "text/plain": [
       "<Figure size 432x288 with 2 Axes>"
      ]
     },
     "metadata": {
      "needs_background": "light"
     },
     "output_type": "display_data"
    }
   ],
   "source": [
    "evaluator(X_train, y_train, X_test, y_test, FinalRF)"
   ]
  },
  {
   "cell_type": "code",
   "execution_count": 292,
   "metadata": {},
   "outputs": [],
   "source": [
    "from sklearn.feature_extraction.text import TfidfVectorizer\n",
    "names = FinalRF['tfidf'].get_feature_names()\n",
    "coef = FinalRF['RF'].feature_importances_"
   ]
  },
  {
   "cell_type": "code",
   "execution_count": 293,
   "metadata": {},
   "outputs": [],
   "source": [
    "zipped = zip(names, coef)\n",
    "df = pd.DataFrame(zipped, columns=[\"feature\", \"value\"])\n",
    "# Sort the features by the absolute value of their coefficient\n",
    "df[\"abs_value\"] = df[\"value\"].apply(lambda x: abs(x))\n",
    "df[\"colors\"] = df[\"value\"].apply(lambda x: \"green\" if x > 0 else \"red\")\n",
    "df = df.sort_values(\"abs_value\", ascending=False)"
   ]
  },
  {
   "cell_type": "code",
   "execution_count": 296,
   "metadata": {},
   "outputs": [
    {
     "data": {
      "text/plain": [
       "Text(0.5, 0, 'Feature Name')"
      ]
     },
     "execution_count": 296,
     "metadata": {},
     "output_type": "execute_result"
    },
    {
     "data": {
      "image/png": "[encoded data removed]",
      "text/plain": [
       "<Figure size 864x504 with 1 Axes>"
      ]
     },
     "metadata": {
      "needs_background": "light"
     },
     "output_type": "display_data"
    }
   ],
   "source": [
    "import seaborn as sns\n",
    "fig, ax = plt.subplots(1, 1, figsize=(12, 7))\n",
    "sns.barplot(x=\"feature\",\n",
    "            y=\"value\",\n",
    "            data=df.head(30),\n",
    "           palette=df.head(30)[\"colors\"])\n",
    "ax.set_xticklabels(ax.get_xticklabels(), rotation=40,ha=\"right\", fontsize=10)\n",
    "ax.set_title(\"Top 30 Features\", fontsize=25)\n",
    "ax.set_ylabel(\"Coef\", fontsize=22)\n",
    "ax.set_xlabel(\"Feature Name\", fontsize=22)"
   ]
  },
  {
   "cell_type": "markdown",
   "metadata": {},
   "source": [
    "# Conclusion"
   ]
  },
  {
   "cell_type": "markdown",
   "metadata": {},
   "source": [
    "A model can be developed to categorize the emotion of a tweet. \n",
    "Some words used to categorize the tweet were:\n",
    "‘Design headache’\n",
    "‘Suck’\n",
    "‘Cool’\n",
    "‘Win’\n",
    "‘Need’\n",
    "More data is needed to better categorize the emotions, especially in the negative emotion category.\n",
    "A trade off between positive emotion recall and negative emotion recall was required.  \n",
    "Using bigrams, pairs of words, may help to provide context to improve the model. \n"
   ]
  },
  {
   "cell_type": "code",
   "execution_count": null,
   "metadata": {},
   "outputs": [],
   "source": []
  }
 ],
 "metadata": {
  "kernelspec": {
   "display_name": "Python [conda env:learn-env] *",
   "language": "python",
   "name": "conda-env-learn-env-py"
  },
  "language_info": {
   "codemirror_mode": {
    "name": "ipython",
    "version": 3
   },
   "file_extension": ".py",
   "mimetype": "text/x-python",
   "name": "python",
   "nbconvert_exporter": "python",
   "pygments_lexer": "ipython3",
   "version": "3.6.9"
  },
  "toc": {
   "base_numbering": 1,
   "nav_menu": {},
   "number_sections": true,
   "sideBar": true,
   "skip_h1_title": false,
   "title_cell": "Table of Contents",
   "title_sidebar": "Contents",
   "toc_cell": false,
   "toc_position": {},
   "toc_section_display": true,
   "toc_window_display": true
  }
 },
 "nbformat": 4,
 "nbformat_minor": 2
}
